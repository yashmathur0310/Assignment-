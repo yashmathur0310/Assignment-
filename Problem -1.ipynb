{
 "cells": [
  {
   "cell_type": "code",
   "execution_count": 7,
   "metadata": {},
   "outputs": [],
   "source": [
    "def top_3_foods(dictionary):\n",
    "    import numpy as np \n",
    "    food_items_list=[dictionary[i] for i in dictionary.keys()]\n",
    "    food_items=[]\n",
    "    for elem in food_items_list:\n",
    "        if type(elem)==int:\n",
    "            food_items.append(elem)\n",
    "        else:\n",
    "            for i in elem:\n",
    "                food_items.append(i)\n",
    "    unique_food=np.unique(food_items)\n",
    "    unique_food_count=[food_items.count(i) for i in unique_food]\n",
    "    unique_food_count_3=np.argsort(unique_food_count)[-3:]\n",
    "    return [unique_food[i] for i in unique_food_count_3][::-1]"
   ]
  },
  {
   "cell_type": "code",
   "execution_count": 15,
   "metadata": {},
   "outputs": [],
   "source": [
    "## Added the test cases to test the code.\n",
    "\n",
    "dictionary_1={\n",
    "    1:[1,2,3],\n",
    "    2:[4,5,6],\n",
    "    3:[6,6,7],\n",
    "    3:[6,6,7],\n",
    "    4:[2,3,1]\n",
    "}\n",
    "\n",
    "dictionary_2={\n",
    "    1:[4,5],\n",
    "    2:4,\n",
    "    3:[5,6,7,8],\n",
    "    4:7,\n",
    "    5:[2,5,6,7]\n",
    "}\n",
    "\n",
    "dictionary_3={\n",
    "    1:(4,5),\n",
    "    2:4,\n",
    "    3:5,\n",
    "    4:[5,6,7],\n",
    "    5:[4,6,7]\n",
    "}"
   ]
  },
  {
   "cell_type": "code",
   "execution_count": 13,
   "metadata": {},
   "outputs": [
    {
     "data": {
      "text/plain": [
       "[6, 3, 2]"
      ]
     },
     "execution_count": 13,
     "metadata": {},
     "output_type": "execute_result"
    }
   ],
   "source": [
    "top_3_foods(dictionary_1)"
   ]
  },
  {
   "cell_type": "code",
   "execution_count": 14,
   "metadata": {},
   "outputs": [
    {
     "data": {
      "text/plain": [
       "[7, 5, 6]"
      ]
     },
     "execution_count": 14,
     "metadata": {},
     "output_type": "execute_result"
    }
   ],
   "source": [
    "top_3_foods(dictionary_2)"
   ]
  },
  {
   "cell_type": "code",
   "execution_count": 16,
   "metadata": {},
   "outputs": [
    {
     "data": {
      "text/plain": [
       "[5, 4, 7]"
      ]
     },
     "execution_count": 16,
     "metadata": {},
     "output_type": "execute_result"
    }
   ],
   "source": [
    "top_3_foods(dictionary_3)"
   ]
  },
  {
   "cell_type": "code",
   "execution_count": null,
   "metadata": {},
   "outputs": [],
   "source": []
  }
 ],
 "metadata": {
  "kernelspec": {
   "display_name": "Python 3",
   "language": "python",
   "name": "python3"
  },
  "language_info": {
   "codemirror_mode": {
    "name": "ipython",
    "version": 3
   },
   "file_extension": ".py",
   "mimetype": "text/x-python",
   "name": "python",
   "nbconvert_exporter": "python",
   "pygments_lexer": "ipython3",
   "version": "3.8.5"
  }
 },
 "nbformat": 4,
 "nbformat_minor": 4
}
