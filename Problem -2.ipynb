{
 "cells": [
  {
   "cell_type": "code",
   "execution_count": 3,
   "metadata": {},
   "outputs": [],
   "source": [
    "# Original code which was going in the infinite loop"
   ]
  },
  {
   "cell_type": "code",
   "execution_count": 1,
   "metadata": {},
   "outputs": [],
   "source": [
    "# class Node:\n",
    "#     children = []\n",
    "#     def __init__(self, name, parent=None):\n",
    "#         self.name = name\n",
    "#         self.parent = parent\n",
    "        \n",
    "#         if parent is not None:\n",
    "#             parent.children.append(self)\n",
    "#     def __str__(self):\n",
    "#         return self.name\n",
    "# def printer(root, level=0):\n",
    "#     print(\" \"*level + \"|-\", root.name)\n",
    "#     for node in root.children:\n",
    "#         printer(node, level+1)\n",
    "\n",
    "            \n",
    "# if __name__ == \"__main__\":\n",
    "#     root = Node(\"Root\")\n",
    "#     node1 = Node(\"1\",root)\n",
    "#     node11 = Node(\"1.1\", node1)\n",
    "#     node12 = Node(\"1.2\", node1)\n",
    "#     node13 = Node(\"1.3\", node1)\n",
    "#     node14 = Node(\"1.4\", node1)\n",
    "#     node15 = Node(\"1.5\", node1)\n",
    "#     node2 = Node(\"2\",root)\n",
    "#     node21 = Node(\"2.1\", node2)\n",
    "#     node22 = Node(\"2.2\", node2)\n",
    "#     node23 = Node(\"2.3\", node2)\n",
    "#     node24 = Node(\"2.4\", node2)\n",
    "#     node25 = Node(\"2.5\", node2)\n",
    "#     printer(root)"
   ]
  },
  {
   "cell_type": "code",
   "execution_count": null,
   "metadata": {},
   "outputs": [],
   "source": [
    "## Added the children list specific for the node and this is now being fixed."
   ]
  },
  {
   "cell_type": "code",
   "execution_count": 2,
   "metadata": {},
   "outputs": [
    {
     "name": "stdout",
     "output_type": "stream",
     "text": [
      "|- Root\n",
      " |- 1\n",
      "  |- 1.1\n",
      "  |- 1.2\n",
      "  |- 1.3\n",
      "  |- 1.4\n",
      "  |- 1.5\n",
      " |- 2\n",
      "  |- 2.1\n",
      "  |- 2.2\n",
      "  |- 2.3\n",
      "  |- 2.4\n",
      "  |- 2.5\n"
     ]
    }
   ],
   "source": [
    "class Node:\n",
    "    children = []\n",
    "    def __init__(self, name, parent=None,children=[]):\n",
    "        self.name = name\n",
    "        self.parent = parent\n",
    "        self.children=children\n",
    "        if parent is not None:\n",
    "#             parent.children.append(self)\n",
    "                self.parent.children = self.parent.children + [self]\n",
    "\n",
    "    def __str__(self):\n",
    "        return self.name\n",
    "def printer(root, level=0):\n",
    "    print(\" \"*level + \"|-\", root.name)\n",
    "    for node in root.children:\n",
    "        printer(node, level+1)\n",
    "\n",
    "            \n",
    "if __name__ == \"__main__\":\n",
    "    root = Node(\"Root\")\n",
    "    node1 = Node(\"1\",root)\n",
    "    node11 = Node(\"1.1\", node1)\n",
    "    node12 = Node(\"1.2\", node1)\n",
    "    node13 = Node(\"1.3\", node1)\n",
    "    node14 = Node(\"1.4\", node1)\n",
    "    node15 = Node(\"1.5\", node1)\n",
    "    node2 = Node(\"2\",root)\n",
    "    node21 = Node(\"2.1\", node2)\n",
    "    node22 = Node(\"2.2\", node2)\n",
    "    node23 = Node(\"2.3\", node2)\n",
    "    node24 = Node(\"2.4\", node2)\n",
    "    node25 = Node(\"2.5\", node2)\n",
    "    printer(root)"
   ]
  }
 ],
 "metadata": {
  "kernelspec": {
   "display_name": "Python 3",
   "language": "python",
   "name": "python3"
  },
  "language_info": {
   "codemirror_mode": {
    "name": "ipython",
    "version": 3
   },
   "file_extension": ".py",
   "mimetype": "text/x-python",
   "name": "python",
   "nbconvert_exporter": "python",
   "pygments_lexer": "ipython3",
   "version": "3.8.5"
  }
 },
 "nbformat": 4,
 "nbformat_minor": 4
}
